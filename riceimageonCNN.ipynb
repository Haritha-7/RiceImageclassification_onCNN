{
 "cells": [
  {
   "cell_type": "code",
   "execution_count": 9,
   "metadata": {},
   "outputs": [],
   "source": [
    "import tensorflow as tf\n",
    "from PIL import Image\n",
    "from tensorflow.keras import layers\n",
    "import pandas as pd"
   ]
  },
  {
   "cell_type": "code",
   "execution_count": 10,
   "metadata": {},
   "outputs": [
    {
     "data": {
      "image/png": "[encoded data removed]",
      "text/plain": [
       "<PIL.JpegImagePlugin.JpegImageFile image mode=RGB size=250x250>"
      ]
     },
     "execution_count": 10,
     "metadata": {},
     "output_type": "execute_result"
    }
   ],
   "source": [
    "img=Image.open(\"./data/Rice_Image_Dataset/Arborio/Arborio (7).jpg\")\n",
    "img"
   ]
  },
  {
   "cell_type": "code",
   "execution_count": 11,
   "metadata": {},
   "outputs": [
    {
     "data": {
      "text/plain": [
       "(250, 250)"
      ]
     },
     "execution_count": 11,
     "metadata": {},
     "output_type": "execute_result"
    }
   ],
   "source": [
    "img.size"
   ]
  },
  {
   "cell_type": "code",
   "execution_count": 12,
   "metadata": {},
   "outputs": [
    {
     "name": "stdout",
     "output_type": "stream",
     "text": [
      "Found 75000 files belonging to 5 classes.\n"
     ]
    },
    {
     "data": {
      "text/plain": [
       "<BatchDataset element_spec=(TensorSpec(shape=(None, 32, 32, 3), dtype=tf.float32, name=None), TensorSpec(shape=(None,), dtype=tf.int32, name=None))>"
      ]
     },
     "execution_count": 12,
     "metadata": {},
     "output_type": "execute_result"
    }
   ],
   "source": [
    "data=tf.keras.utils.image_dataset_from_directory(\n",
    "    \"./data/Rice_Image_Dataset/\",\n",
    "    image_size=(32,32),\n",
    "    color_mode=\"rgb\",\n",
    "    batch_size=75000\n",
    ")\n",
    "data"
   ]
  },
  {
   "cell_type": "code",
   "execution_count": 13,
   "metadata": {},
   "outputs": [],
   "source": [
    "cnn_model=tf.keras.Sequential([\n",
    "    layers.Conv2D(9,3,padding=\"same\",input_shape=(32,32,3)),\n",
    "    layers.MaxPool2D(),\n",
    "    layers.Conv2D(18,3,padding=\"same\"),\n",
    "    layers.MaxPool2D(),\n",
    "    layers.Conv2D(36,3),\n",
    "    layers.MaxPool2D(),\n",
    "    layers.Flatten(),\n",
    "    layers.Dense(64,activation=\"relu\"),\n",
    "    layers.Dense(5),\n",
    "    layers.Softmax()\n",
    "\n",
    "    \n",
    "    \n",
    "    ])"
   ]
  },
  {
   "cell_type": "code",
   "execution_count": 14,
   "metadata": {},
   "outputs": [
    {
     "name": "stdout",
     "output_type": "stream",
     "text": [
      "Model: \"sequential_1\"\n",
      "_________________________________________________________________\n",
      " Layer (type)                Output Shape              Param #   \n",
      "=================================================================\n",
      " conv2d_3 (Conv2D)           (None, 32, 32, 9)         252       \n",
      "                                                                 \n",
      " max_pooling2d_3 (MaxPooling  (None, 16, 16, 9)        0         \n",
      " 2D)                                                             \n",
      "                                                                 \n",
      " conv2d_4 (Conv2D)           (None, 16, 16, 18)        1476      \n",
      "                                                                 \n",
      " max_pooling2d_4 (MaxPooling  (None, 8, 8, 18)         0         \n",
      " 2D)                                                             \n",
      "                                                                 \n",
      " conv2d_5 (Conv2D)           (None, 6, 6, 36)          5868      \n",
      "                                                                 \n",
      " max_pooling2d_5 (MaxPooling  (None, 3, 3, 36)         0         \n",
      " 2D)                                                             \n",
      "                                                                 \n",
      " flatten_1 (Flatten)         (None, 324)               0         \n",
      "                                                                 \n",
      " dense_2 (Dense)             (None, 64)                20800     \n",
      "                                                                 \n",
      " dense_3 (Dense)             (None, 5)                 325       \n",
      "                                                                 \n",
      " softmax_1 (Softmax)         (None, 5)                 0         \n",
      "                                                                 \n",
      "=================================================================\n",
      "Total params: 28,721\n",
      "Trainable params: 28,721\n",
      "Non-trainable params: 0\n",
      "_________________________________________________________________\n"
     ]
    }
   ],
   "source": [
    "cnn_model.summary()"
   ]
  },
  {
   "cell_type": "code",
   "execution_count": 15,
   "metadata": {},
   "outputs": [],
   "source": [
    "cnn_model.compile(\n",
    "    loss=tf.keras.losses.categorical_crossentropy,\n",
    "    optimizer=tf.keras.optimizers.Adam(0.001),\n",
    "    metrics=[\"accuracy\"]\n",
    ")"
   ]
  },
  {
   "cell_type": "code",
   "execution_count": 16,
   "metadata": {},
   "outputs": [
    {
     "name": "stdout",
     "output_type": "stream",
     "text": [
      "(75000, 32, 32, 3) (75000, 5)\n",
      "Epoch 1/50\n",
      "1500/1500 [==============================] - 41s 26ms/step - loss: 0.1543 - accuracy: 0.9461\n",
      "Epoch 2/50\n",
      "1500/1500 [==============================] - 25s 16ms/step - loss: 0.0840 - accuracy: 0.9705\n",
      "Epoch 3/50\n",
      "1500/1500 [==============================] - 27s 18ms/step - loss: 0.0619 - accuracy: 0.9782\n",
      "Epoch 4/50\n",
      "1500/1500 [==============================] - 30s 20ms/step - loss: 0.0400 - accuracy: 0.9865\n",
      "Epoch 5/50\n",
      "1500/1500 [==============================] - 26s 18ms/step - loss: 0.0340 - accuracy: 0.9886\n",
      "Epoch 6/50\n",
      "1500/1500 [==============================] - 28s 19ms/step - loss: 0.0315 - accuracy: 0.9887\n",
      "Epoch 7/50\n",
      "1500/1500 [==============================] - 27s 18ms/step - loss: 0.0283 - accuracy: 0.9906\n",
      "Epoch 8/50\n",
      "1500/1500 [==============================] - 27s 18ms/step - loss: 0.0258 - accuracy: 0.9914\n",
      "Epoch 9/50\n",
      "1500/1500 [==============================] - 27s 18ms/step - loss: 0.0248 - accuracy: 0.9918\n",
      "Epoch 10/50\n",
      "1500/1500 [==============================] - 27s 18ms/step - loss: 0.0218 - accuracy: 0.9927\n",
      "Epoch 11/50\n",
      "1500/1500 [==============================] - 29s 19ms/step - loss: 0.0201 - accuracy: 0.9934\n",
      "Epoch 12/50\n",
      "1500/1500 [==============================] - 28s 19ms/step - loss: 0.0198 - accuracy: 0.9932\n",
      "Epoch 13/50\n",
      "1500/1500 [==============================] - 27s 18ms/step - loss: 0.0164 - accuracy: 0.9944\n",
      "Epoch 14/50\n",
      "1500/1500 [==============================] - 28s 19ms/step - loss: 0.0165 - accuracy: 0.9948\n",
      "Epoch 15/50\n",
      "1500/1500 [==============================] - 28s 19ms/step - loss: 0.0150 - accuracy: 0.9948\n",
      "Epoch 16/50\n",
      "1500/1500 [==============================] - 28s 19ms/step - loss: 0.0147 - accuracy: 0.9956\n",
      "Epoch 17/50\n",
      "1500/1500 [==============================] - 28s 19ms/step - loss: 0.0118 - accuracy: 0.9960\n",
      "Epoch 18/50\n",
      "1500/1500 [==============================] - 28s 19ms/step - loss: 0.0118 - accuracy: 0.9961\n",
      "Epoch 19/50\n",
      "1500/1500 [==============================] - 28s 18ms/step - loss: 0.0102 - accuracy: 0.9964\n",
      "Epoch 20/50\n",
      "1500/1500 [==============================] - 30s 20ms/step - loss: 0.0102 - accuracy: 0.9965\n",
      "Epoch 21/50\n",
      "1500/1500 [==============================] - 34s 23ms/step - loss: 0.0096 - accuracy: 0.9967\n",
      "Epoch 22/50\n",
      "1500/1500 [==============================] - 35s 23ms/step - loss: 0.0087 - accuracy: 0.9970\n",
      "Epoch 23/50\n",
      "1500/1500 [==============================] - 48s 32ms/step - loss: 0.0089 - accuracy: 0.9970\n",
      "Epoch 24/50\n",
      "1500/1500 [==============================] - 40s 27ms/step - loss: 0.0081 - accuracy: 0.9971\n",
      "Epoch 25/50\n",
      "1500/1500 [==============================] - 38s 25ms/step - loss: 0.0076 - accuracy: 0.9974\n",
      "Epoch 26/50\n",
      "1500/1500 [==============================] - 41s 27ms/step - loss: 0.0069 - accuracy: 0.9978\n",
      "Epoch 27/50\n",
      "1500/1500 [==============================] - 38s 25ms/step - loss: 0.0077 - accuracy: 0.9974\n",
      "Epoch 28/50\n",
      "1500/1500 [==============================] - 29s 19ms/step - loss: 0.0074 - accuracy: 0.9975\n",
      "Epoch 29/50\n",
      "1500/1500 [==============================] - 31s 21ms/step - loss: 0.0055 - accuracy: 0.9981\n",
      "Epoch 30/50\n",
      "1500/1500 [==============================] - 29s 19ms/step - loss: 0.0065 - accuracy: 0.9977\n",
      "Epoch 31/50\n",
      "1500/1500 [==============================] - 28s 19ms/step - loss: 0.0067 - accuracy: 0.9978\n",
      "Epoch 32/50\n",
      "1500/1500 [==============================] - 28s 19ms/step - loss: 0.0049 - accuracy: 0.9983\n",
      "Epoch 33/50\n",
      "1500/1500 [==============================] - 28s 19ms/step - loss: 0.0050 - accuracy: 0.9983\n",
      "Epoch 34/50\n",
      "1500/1500 [==============================] - 28s 19ms/step - loss: 0.0037 - accuracy: 0.9986\n",
      "Epoch 35/50\n",
      "1500/1500 [==============================] - 29s 19ms/step - loss: 0.0074 - accuracy: 0.9976\n",
      "Epoch 36/50\n",
      "1500/1500 [==============================] - 28s 19ms/step - loss: 0.0055 - accuracy: 0.9983\n",
      "Epoch 37/50\n",
      "1500/1500 [==============================] - 29s 19ms/step - loss: 0.0065 - accuracy: 0.9979\n",
      "Epoch 38/50\n",
      "1500/1500 [==============================] - 32s 21ms/step - loss: 0.0046 - accuracy: 0.9985\n",
      "Epoch 39/50\n",
      "1500/1500 [==============================] - 30s 20ms/step - loss: 0.0038 - accuracy: 0.9988\n",
      "Epoch 40/50\n",
      "1500/1500 [==============================] - 30s 20ms/step - loss: 0.0058 - accuracy: 0.9981\n",
      "Epoch 41/50\n",
      "1500/1500 [==============================] - 31s 20ms/step - loss: 0.0056 - accuracy: 0.9981\n",
      "Epoch 42/50\n",
      "1500/1500 [==============================] - 30s 20ms/step - loss: 0.0034 - accuracy: 0.9990\n",
      "Epoch 43/50\n",
      "1500/1500 [==============================] - 31s 21ms/step - loss: 0.0083 - accuracy: 0.9978\n",
      "Epoch 44/50\n",
      "1500/1500 [==============================] - 30s 20ms/step - loss: 0.0041 - accuracy: 0.9987\n",
      "Epoch 45/50\n",
      "1500/1500 [==============================] - 30s 20ms/step - loss: 0.0040 - accuracy: 0.9989\n",
      "Epoch 46/50\n",
      "1500/1500 [==============================] - 29s 20ms/step - loss: 0.0055 - accuracy: 0.9984\n",
      "Epoch 47/50\n",
      "1500/1500 [==============================] - 29s 19ms/step - loss: 0.0033 - accuracy: 0.9990\n",
      "Epoch 48/50\n",
      "1500/1500 [==============================] - 30s 20ms/step - loss: 0.0029 - accuracy: 0.9991\n",
      "Epoch 49/50\n",
      "1500/1500 [==============================] - 31s 21ms/step - loss: 0.0049 - accuracy: 0.9983\n",
      "Epoch 50/50\n",
      "1500/1500 [==============================] - 32s 21ms/step - loss: 0.0035 - accuracy: 0.9990\n"
     ]
    }
   ],
   "source": [
    "for features,labels in data:\n",
    "    features=tf.divide(features,255)\n",
    "    labels=tf.one_hot(labels,5)\n",
    "    print(features.shape,labels.shape)\n",
    "    record=cnn_model.fit(features,labels,batch_size=50,epochs=50)"
   ]
  },
  {
   "cell_type": "code",
   "execution_count": 17,
   "metadata": {},
   "outputs": [
    {
     "data": {
      "text/plain": [
       "<AxesSubplot: >"
      ]
     },
     "execution_count": 17,
     "metadata": {},
     "output_type": "execute_result"
    },
    {
     "data": {
      "image/png": "[encoded data removed]",
      "text/plain": [
       "<Figure size 640x480 with 1 Axes>"
      ]
     },
     "metadata": {},
     "output_type": "display_data"
    }
   ],
   "source": [
    "history=pd.DataFrame(record.history)\n",
    "history.plot()"
   ]
  },
  {
   "cell_type": "code",
   "execution_count": 18,
   "metadata": {},
   "outputs": [
    {
     "name": "stdout",
     "output_type": "stream",
     "text": [
      "2344/2344 [==============================] - 14s 6ms/step\n"
     ]
    },
    {
     "data": {
      "text/plain": [
       "array([[5.58246144e-14, 6.00407531e-15, 1.05767546e-20, 1.00000000e+00,\n",
       "        2.68544153e-25],\n",
       "       [9.99668002e-01, 4.06852655e-17, 6.39762820e-13, 6.89904210e-12,\n",
       "        3.32016905e-04],\n",
       "       [2.58664791e-12, 4.00819413e-21, 2.91266256e-25, 1.78882175e-17,\n",
       "        1.00000000e+00],\n",
       "       ...,\n",
       "       [5.54187341e-32, 6.20216225e-37, 1.00000000e+00, 9.35142773e-26,\n",
       "        0.00000000e+00],\n",
       "       [1.47991130e-13, 1.30469475e-21, 2.22221885e-18, 2.27924832e-21,\n",
       "        1.00000000e+00],\n",
       "       [0.00000000e+00, 0.00000000e+00, 1.00000000e+00, 2.75344674e-34,\n",
       "        0.00000000e+00]], dtype=float32)"
      ]
     },
     "execution_count": 18,
     "metadata": {},
     "output_type": "execute_result"
    }
   ],
   "source": [
    "cnn_model.predict(features)"
   ]
  },
  {
   "cell_type": "code",
   "execution_count": 19,
   "metadata": {},
   "outputs": [],
   "source": [
    "model=cnn_model.save(\"./riceimagecnn.h5\",save_format=\"h5\")"
   ]
  },
  {
   "cell_type": "code",
   "execution_count": 20,
   "metadata": {},
   "outputs": [
    {
     "name": "stdout",
     "output_type": "stream",
     "text": [
      "Model: \"sequential_1\"\n",
      "_________________________________________________________________\n",
      " Layer (type)                Output Shape              Param #   \n",
      "=================================================================\n",
      " conv2d_3 (Conv2D)           (None, 32, 32, 9)         252       \n",
      "                                                                 \n",
      " max_pooling2d_3 (MaxPooling  (None, 16, 16, 9)        0         \n",
      " 2D)                                                             \n",
      "                                                                 \n",
      " conv2d_4 (Conv2D)           (None, 16, 16, 18)        1476      \n",
      "                                                                 \n",
      " max_pooling2d_4 (MaxPooling  (None, 8, 8, 18)         0         \n",
      " 2D)                                                             \n",
      "                                                                 \n",
      " conv2d_5 (Conv2D)           (None, 6, 6, 36)          5868      \n",
      "                                                                 \n",
      " max_pooling2d_5 (MaxPooling  (None, 3, 3, 36)         0         \n",
      " 2D)                                                             \n",
      "                                                                 \n",
      " flatten_1 (Flatten)         (None, 324)               0         \n",
      "                                                                 \n",
      " dense_2 (Dense)             (None, 64)                20800     \n",
      "                                                                 \n",
      " dense_3 (Dense)             (None, 5)                 325       \n",
      "                                                                 \n",
      " softmax_1 (Softmax)         (None, 5)                 0         \n",
      "                                                                 \n",
      "=================================================================\n",
      "Total params: 28,721\n",
      "Trainable params: 28,721\n",
      "Non-trainable params: 0\n",
      "_________________________________________________________________\n"
     ]
    }
   ],
   "source": [
    "model1=tf.keras.models.load_model(\"./riceimagecnn.h5\")\n",
    "model1.summary()"
   ]
  }
 ],
 "metadata": {
  "kernelspec": {
   "display_name": "Python 3",
   "language": "python",
   "name": "python3"
  },
  "language_info": {
   "codemirror_mode": {
    "name": "ipython",
    "version": 3
   },
   "file_extension": ".py",
   "mimetype": "text/x-python",
   "name": "python",
   "nbconvert_exporter": "python",
   "pygments_lexer": "ipython3",
   "version": "3.10.8"
  },
  "orig_nbformat": 4,
  "vscode": {
   "interpreter": {
    "hash": "26de051ba29f2982a8de78e945f0abaf191376122a1563185a90213a26c5da77"
   }
  }
 },
 "nbformat": 4,
 "nbformat_minor": 2
}
